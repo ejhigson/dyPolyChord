{
 "cells": [
  {
   "cell_type": "markdown",
   "metadata": {},
   "source": [
    "<div class=\"alert alert-info\">\n",
    "**Note:**\n",
    "\n",
    "You can download this demo as a Jupyter notebook [here](https://github.com/ejhigson/dyPolyChord/blob/master/docs/demo.ipynb) and run it interactively yourself.\n",
    "</div>\n",
    "\n",
    "# dyPolyChord Demo\n",
    "\n",
    "The main user-facing function is ``dyPolyChord.run_dypolychord``, which performs dynamic nested sampling.\n",
    "\n",
    "Likelihoods and priors are specified within a Python callable, which can be used to run PolyChord on the likelihood and prior with an input settings dictionary. Tools for making such a callable are provided in ``pypolychord_utils.py`` (python likelihoods and priors) and ``polychord_utils.py`` (compiled C++ and Fortran likelihoods and priors).\n",
    "\n",
    "In addition the user can specify PolyChord settings (as a dictionary), and can choose whether to prioritise parameter estimation or evidence calculation via the ``dynamic_goal`` argument (see the [dynamic nested sampling paper](https://arxiv.org/abs/1704.03459) for an explanation)."
   ]
  },
  {
   "cell_type": "markdown",
   "metadata": {},
   "source": [
    "## Compiled (C++ or Fortran) likelihoods and priors\n",
    "\n",
    "C++ and Fortran likelihoods used by PolyChord can also be used by ``dyPolyChord`` (they must be able to read settings from .ini files). These must be compiled to executables within the PolyChord directory, via commands such as\n",
    "\n",
    "    $ make gaussain  # PolyChord gaussian example\n",
    "\n",
    "or\n",
    "\n",
    "    $ make polychord_CC_ini  # PolyChord template C++ likelihood which reads .ini file\n",
    "\n",
    "See the PolyChord README for more details. ``dyPolyChord`` simply needs the file path to the executable, which it runs via ``os.system`` - settings are specified by writing temporary .ini files."
   ]
  },
  {
   "cell_type": "code",
   "execution_count": null,
   "metadata": {},
   "outputs": [],
   "source": [
    "import dyPolyChord.polychord_utils\n",
    "import dyPolyChord\n",
    "\n",
    "\n",
    "# Definte the distribution to sample (likelihood, prior, number of dimensions)\n",
    "ex_command = './gaussian'  # path to compiled executable likelihood\n",
    "# The prior must be specified as strings via .ini files. get_prior_block_str provides a\n",
    "# convenient function for making such PolyChord-formatted strings. See its docstring and\n",
    "# the PolyChord documentation for more details\n",
    "ndim = 10\n",
    "prior_str = dyPolyChord.polychord_utils.get_prior_block_str(\n",
    "    'gaussian',  # name of prior - see PolyChord for a list of allowed priors\n",
    "    [0.0, 10.0],  # parameters of the prior\n",
    "    ndim)\n",
    "\n",
    "# Make a callable for running PolyChord\n",
    "my_callable = dyPolyChord.polychord_utils.RunCompiledPolyChord(\n",
    "    ex_command, prior_str)\n",
    "\n",
    "# Specify sampler settings (see run_dynamic_ns.py documentation for more details)\n",
    "dynamic_goal = 1.0  # whether to maximise parameter estimation or evidence accuracy. \n",
    "ninit = 100          # number of live points to use in initial exploratory run.\n",
    "nlive_const = 500   # total computational budget is the same as standard nested sampling with nlive_const live points. \n",
    "settings_dict = {'file_root': 'gaussian',\n",
    "                 'base_dir': 'chains',\n",
    "                 'seed': 1}\n",
    "\n",
    "# Run dyPolyChord\n",
    "dyPolyChord.run_dypolychord(my_callable, dynamic_goal, settings_dict,\n",
    "                            ninit=ninit, nlive_const=nlive_const)"
   ]
  },
  {
   "cell_type": "markdown",
   "metadata": {},
   "source": [
    "## Python likelihoods and priors\n",
    "\n",
    "Python likelihoods and priors must be defined as functions or callable classes, just as for running PyPolyChord (PolyChord's python wrapper). Otherwise the process is very similar to that with compiled likelihoods."
   ]
  },
  {
   "cell_type": "code",
   "execution_count": null,
   "metadata": {},
   "outputs": [],
   "source": [
    "import dyPolyChord.python_likelihoods as likelihoods  # Import some example python likelihoods\n",
    "import dyPolyChord.python_priors as priors  # Import some example python priors\n",
    "import dyPolyChord.pypolychord_utils\n",
    "import dyPolyChord\n",
    "\n",
    "\n",
    "# Definte the distribution to sample (likelihood, prior, number of dimensions)\n",
    "ndim = 10\n",
    "likelihood = likelihoods.Gaussian(sigma=1.0)\n",
    "prior = priors.Gaussian(sigma=10.0)\n",
    "\n",
    "# Make a callable for running PolyChord\n",
    "my_callable = dyPolyChord.pypolychord_utils.RunPyPolyChord(\n",
    "    likelihood, prior, ndim)\n",
    "\n",
    "# Specify sampler settings (see run_dynamic_ns.py documentation for more details)\n",
    "dynamic_goal = 1.0  # whether to maximise parameter estimation or evidence accuracy. \n",
    "ninit = 100          # number of live points to use in initial exploratory run.\n",
    "nlive_const = 500   # total computational budget is the same as standard nested sampling with nlive_const live points. \n",
    "settings_dict = {'file_root': 'gaussian',\n",
    "                 'base_dir': 'chains',\n",
    "                 'seed': 1}\n",
    "\n",
    "# Run dyPolyChord\n",
    "dyPolyChord.run_dypolychord(my_callable, dynamic_goal, settings_dict,\n",
    "                            ninit=ninit, nlive_const=nlive_const)"
   ]
  },
  {
   "cell_type": "markdown",
   "metadata": {},
   "source": [
    "## Parallelisation\n",
    "\n",
    "\n",
    "#### Compiled likelihoods and priors\n",
    "\n",
    "To run compiled likelihoods in parallel with MPI, specify an mpirun command in the `mpi_str` argument when initializing your `RunPyPolyChord` object. For example to run with 8 processes, use"
   ]
  },
  {
   "cell_type": "code",
   "execution_count": null,
   "metadata": {},
   "outputs": [],
   "source": [
    "my_callable = dyPolyChord.polychord_utils.RunCompiledPolyChord(\n",
    "    ex_command, prior_str, mpi_str='mpirun -np 8')"
   ]
  },
  {
   "cell_type": "markdown",
   "metadata": {},
   "source": [
    "The callable can then be used with `run_dypolychord` as normal.\n",
    "\n",
    "#### Python likelihoods and priors\n",
    "\n",
    "You must import `mpi4py`, create an `MPI.COMM_WORLD` object and pass it to `run_dypolychord` as an argument."
   ]
  },
  {
   "cell_type": "code",
   "execution_count": null,
   "metadata": {},
   "outputs": [],
   "source": [
    "from mpi4py import MPI\n",
    "comm = MPI.COMM_WORLD\n",
    "\n",
    "dyPolyChord.run_dypolychord(my_callable, dynamic_goal, settings_dict,\n",
    "                            ninit=ninit, nlive_const=nlive_const, comm=comm)"
   ]
  },
  {
   "cell_type": "markdown",
   "metadata": {},
   "source": [
    "You can then run your script with mpirun:\n",
    "\n",
    "    $ mpirun -np 8 my_dypolychord_script.py\n",
    "\n",
    "#### Repeated runs\n",
    "\n",
    "If you want to perform a number of independent `dyPolyChord` calculations (such as repeating the same calculation many times) then, as this is \"embarrassingly parallel\", you don't need MPI and can instead perform many `dyPolyChord` runs in parallel using python's `concurrent.futures`. This also allows reliable random seeding for reproducible results, which is not possible with MPI due to the unpredictable order in which slave processes are called by PolyChord. Note that for this to work PolyChord must be installed without MPI.\n",
    "\n",
    "For an example of this type of usage, see the code used to make the results for the dynamic nested sampling paper (https://github.com/ejhigson/dns)."
   ]
  },
  {
   "cell_type": "markdown",
   "metadata": {},
   "source": [
    "## Checking the output"
   ]
  },
  {
   "cell_type": "markdown",
   "metadata": {},
   "source": [
    "Running ``dyPolyChord`` produces PolyChord-format output files in `settings['base_dir']`. These output files can be analysed in the same way as other PolyChord output files.\n",
    "\n",
    "One convenient package for doing this in python is ``nestcheck`` (http://nestcheck.readthedocs.io/en/latest/). We can use it to load and analyse the results from the 10-dimensional Gaussian produced by running the second cell in this demo (the example python likelihood and prior)."
   ]
  },
  {
   "cell_type": "code",
   "execution_count": 1,
   "metadata": {},
   "outputs": [
    {
     "name": "stdout",
     "output_type": "stream",
     "text": [
      "The log evidence estimate using the first run is -31.97320739404335\n",
      "The estimateed the mean of the first parameter is -0.009077055705321546\n"
     ]
    }
   ],
   "source": [
    "import nestcheck.data_processing\n",
    "import nestcheck.estimators as e\n",
    "\n",
    "# load the run\n",
    "run = nestcheck.data_processing.process_polychord_run(\n",
    "    'gaussian',  # = settings['file_root']\n",
    "    'chains')    # = settings['base_dir']\n",
    "\n",
    "print('The log evidence estimate using the first run is {}'\n",
    "      .format(e.logz(run)))\n",
    "print('The estimateed the mean of the first parameter is {}'\n",
    "      .format(e.param_mean(run, param_ind=0)))"
   ]
  },
  {
   "cell_type": "markdown",
   "metadata": {},
   "source": [
    "As an illustration, lets use ``nestcheck`` to check ``dyPolyChord``'s allocation of live points roughly matches the distribution of posterior mass, which it should do when the dynamic goal setting equals 1. For a detailed explanation of this type of plot, see Figure 4 in the dynamic nested sampling paper ([Higson et al., 2017](https://arxiv.org/abs/1704.03459)) and its caption."
   ]
  },
  {
   "cell_type": "code",
   "execution_count": 2,
   "metadata": {},
   "outputs": [
    {
     "data": {
      "image/png": "[encoded data removed]",
      "text/plain": [
       "<Figure size 432x288 with 2 Axes>"
      ]
     },
     "metadata": {},
     "output_type": "display_data"
    }
   ],
   "source": [
    "import numpy as np\n",
    "import matplotlib.pyplot as plt\n",
    "import nestcheck.ns_run_utils\n",
    "%matplotlib inline\n",
    "\n",
    "# get the sample's estimated logX co-ordinates and relative posterior mass\n",
    "logx = nestcheck.ns_run_utils.get_logx(run['nlive_array'])\n",
    "logw = logx + run['logl']\n",
    "w_rel = np.exp(logw - logw.max())\n",
    "\n",
    "# plot nlive and w_rel on same axis\n",
    "fig = plt.figure()\n",
    "ax1 = fig.add_subplot(111)\n",
    "ax2 = ax1.twinx()\n",
    "l1 = ax1.plot(logx, run['nlive_array'], label='number of live points', color='blue')\n",
    "l2 = ax2.plot(logx, w_rel, label='relative posterior mass', color='black', linestyle='dashed')\n",
    "lines = l1 + l2\n",
    "ax1.legend(lines, [l.get_label() for l in lines], loc=0)\n",
    "ax1.set_xlabel('estimated $\\log X$')\n",
    "ax1.set_xlim(right=0.0)\n",
    "ax1.set_ylim(bottom=0.0)\n",
    "ax1.set_ylabel('number of live points')\n",
    "ax2.set_ylim(bottom=0.0)\n",
    "ax2.set_yticks([])\n",
    "ax2.set_ylabel('relative posterior mass')\n",
    "plt.show()"
   ]
  },
  {
   "cell_type": "markdown",
   "metadata": {},
   "source": [
    "It looks like `dyPolyChord`'s allocation of samples closely matches the regions with high posterior mass, as expected.\n",
    "\n",
    "Note that this plot is only approximate as the $\\log X$ values ($x$ coordinates) are estimated from just the one run, and are correlated with the posterior mass estimates. For a more accurate version, see Figure 4 of [Higson et al., (2017)](https://arxiv.org/abs/1704.03459)."
   ]
  }
 ],
 "metadata": {
  "kernelspec": {
   "display_name": "Python 3",
   "language": "python",
   "name": "python3"
  },
  "language_info": {
   "codemirror_mode": {
    "name": "ipython",
    "version": 3
   },
   "file_extension": ".py",
   "mimetype": "text/x-python",
   "name": "python",
   "nbconvert_exporter": "python",
   "pygments_lexer": "ipython3",
   "version": "3.6.5"
  }
 },
 "nbformat": 4,
 "nbformat_minor": 2
}
