{
 "cells": [
  {
   "cell_type": "markdown",
   "metadata": {},
   "source": [
    "<div class=\"alert alert-info\">\n",
    "**Note:**\n",
    "\n",
    "You can download this demo as a Jupyter notebook [here](https://github.com/ejhigson/dyPolyChord/blob/master/docs/demo.ipynb) and run it interactively yourself.\n",
    "</div>\n",
    "\n",
    "# dyPolyChord Demo\n",
    "\n",
    "This is a brief demonstration of running `dyPolyChord`. For a detailed discussion of the theory see the dynamic nested sampling paper ([Higson et al. 2017](https://arxiv.org/abs/1704.03459)).\n",
    "\n"
   ]
  },
  {
   "cell_type": "markdown",
   "metadata": {},
   "source": [
    "### Running with Python"
   ]
  },
  {
   "cell_type": "code",
   "execution_count": null,
   "metadata": {},
   "outputs": [],
   "source": [
    "import dyPolyChord.python_likelihoods as likelihoods\n",
    "import dyPolyChord.python_priors as priors\n",
    "import dyPolyChord.pypolychord_utils\n",
    "import dyPolyChord\n",
    "\n",
    "\n",
    "# Define problem\n",
    "ndim = 10\n",
    "likelihood = likelihoods.Gaussian(sigma=1.0)\n",
    "prior = priors.Gaussian(sigma=10.0)\n",
    "run_func = dyPolyChord.pypolychord_utils.RunPyPolyChord(\n",
    "    likelihood, prior, ndim)\n",
    "\n",
    "# Run dyPolyChord\n",
    "dyPolyChord.run_dypolychord(run_func, 1, {})"
   ]
  }
 ],
 "metadata": {
  "kernelspec": {
   "display_name": "Python 3",
   "language": "python",
   "name": "python3"
  },
  "language_info": {
   "codemirror_mode": {
    "name": "ipython",
    "version": 3
   },
   "file_extension": ".py",
   "mimetype": "text/x-python",
   "name": "python",
   "nbconvert_exporter": "python",
   "pygments_lexer": "ipython3",
   "version": "3.6.5"
  }
 },
 "nbformat": 4,
 "nbformat_minor": 2
}
