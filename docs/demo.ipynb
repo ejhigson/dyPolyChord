{
 "cells": [
  {
   "cell_type": "markdown",
   "metadata": {},
   "source": [
    "<div class=\"alert alert-info\">\n",
    "**Note:**\n",
    "\n",
    "You can download this demo as a Jupyter notebook [here](https://github.com/ejhigson/dyPolyChord/blob/master/docs/demo.ipynb) and run it interactively yourself.\n",
    "</div>\n",
    "\n",
    "# demo\n",
    "\n",
    "This is a brief demonstration of running `dyPolyChord`. For a detailed discussion of the theory see the dynamic nested sampling paper ([Higson et al. 2017](https://arxiv.org/abs/1704.03459)).\n",
    "\n"
   ]
  }
 ],
 "metadata": {
  "kernelspec": {
   "display_name": "Python 3",
   "language": "python",
   "name": "python3"
  },
  "language_info": {
   "codemirror_mode": {
    "name": "ipython",
    "version": 3
   },
   "file_extension": ".py",
   "mimetype": "text/x-python",
   "name": "python",
   "nbconvert_exporter": "python",
   "pygments_lexer": "ipython3",
   "version": "3.6.5"
  }
 },
 "nbformat": 4,
 "nbformat_minor": 2
}
